{
 "cells": [
  {
   "cell_type": "code",
   "execution_count": 172,
   "metadata": {},
   "outputs": [],
   "source": [
    "# Guide: \n",
    "# datacamp.com/community/tutorials/face-detection-python-opencv\n",
    "\n",
    "# imports\n",
    "import numpy as np\n",
    "import time\n",
    "import cv2\n",
    "from os import walk\n",
    "import matplotlib.pyplot as plt\n",
    "%matplotlib inline"
   ]
  },
  {
   "cell_type": "code",
   "execution_count": 271,
   "metadata": {},
   "outputs": [],
   "source": [
    "# conversion utilities\n",
    "\n",
    "def convertToRGB(img):\n",
    "    return cv2.cvtColor(img, cv2.COLOR_BGR2RGB)\n",
    "\n",
    "def convertToGray(img): \n",
    "    return cv2.cvtColor(img, cv2.COLOR_BGR2GRAY)"
   ]
  },
  {
   "cell_type": "code",
   "execution_count": 301,
   "metadata": {},
   "outputs": [],
   "source": [
    "# drawing utilities\n",
    "\n",
    "def drawRects(img, rects):\n",
    "    for (x, y, w, h) in rects:\n",
    "        cv2.rectangle(\n",
    "            img, \n",
    "            (x, y), \n",
    "            (x+w, y+h), \n",
    "            (250, 120, 0), \n",
    "            4\n",
    "        )"
   ]
  },
  {
   "cell_type": "code",
   "execution_count": 305,
   "metadata": {},
   "outputs": [],
   "source": [
    "# detection algorithm \n",
    "\n",
    "# loading in cascade classifier\n",
    "# from: https://github.com/parulnith/Face-Detection-in-Python-using-OpenCV\n",
    "cascade = cv2.CascadeClassifier('Face-Detection-in-Python-using-OpenCV/data/haarcascades/haarcascade_frontalface_default.xml')\n",
    "\n",
    "def detect_faces(img):\n",
    "    # copy the image \n",
    "    image_copy = img.copy()\n",
    "\n",
    "    # convert the image to gray scale\n",
    "    gray_image = convertToGray(image_copy)\n",
    "\n",
    "    # detect faces with the haar classifier\n",
    "    faces_rect = cascade.detectMultiScale(\n",
    "        gray_image, \n",
    "        scaleFactor=1.1, \n",
    "        minNeighbors=5\n",
    "    )\n",
    "    \n",
    "    # draw the rectangles around detected faces\n",
    "    drawRects(image_copy, faces_rect)\n",
    "    \n",
    "    return {\n",
    "        \"img\": image_copy, \n",
    "        \"detected\": faces_rect\n",
    "    }"
   ]
  },
  {
   "cell_type": "code",
   "execution_count": 306,
   "metadata": {},
   "outputs": [],
   "source": [
    "\n",
    "imageNamesObj = {}\n",
    "for (_, dirnames, _) in walk('./faces'):\n",
    "    for dirName in dirnames:\n",
    "        for(_, _, files) in walk('./faces/{}'.format(dirName)):\n",
    "            filesNames = list(filter(lambda x: 'jpg' in x, files))\n",
    "            imageNamesObj[dirName] = filesNames\n",
    "            break\n"
   ]
  },
  {
   "cell_type": "code",
   "execution_count": 307,
   "metadata": {},
   "outputs": [],
   "source": [
    "for dirname in imageNamesObj: \n",
    "    for imageName in imageNamesObj[dirname]: \n",
    "        img = cv2.imread('faces/{}/{}'.format(dirname, imageName))\n",
    "        \n",
    "        faces = detect_faces(img)\n",
    "        \n",
    "        write_path = 'faces/{}/detected/{}|{}.png'.format(\n",
    "            dirname, \n",
    "            len(faces[\"detected\"]), \n",
    "            imageName\n",
    "        )\n",
    "        cv2.imwrite(\n",
    "            write_path,\n",
    "            faces[\"img\"]\n",
    "        )\n",
    "        "
   ]
  },
  {
   "cell_type": "code",
   "execution_count": null,
   "metadata": {},
   "outputs": [],
   "source": []
  }
 ],
 "metadata": {
  "kernelspec": {
   "display_name": "Python 3",
   "language": "python",
   "name": "python3"
  },
  "language_info": {
   "codemirror_mode": {
    "name": "ipython",
    "version": 3
   },
   "file_extension": ".py",
   "mimetype": "text/x-python",
   "name": "python",
   "nbconvert_exporter": "python",
   "pygments_lexer": "ipython3",
   "version": "3.7.4"
  }
 },
 "nbformat": 4,
 "nbformat_minor": 2
}
